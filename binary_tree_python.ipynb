{
 "cells": [
  {
   "cell_type": "code",
   "execution_count": 21,
   "id": "5efdd2a5",
   "metadata": {},
   "outputs": [],
   "source": [
    "class Vertice:\n",
    "    def __init__(self, valor):\n",
    "        self.valor = valor\n",
    "        self.verticeEsquerdo = None\n",
    "        self.verticeDireito = None\n",
    "        \n",
    "    def obterValor(self):\n",
    "        return self.valor\n",
    "    def setarVerticeEsquerdo(self, valorEsquerdo):\n",
    "        self.verticeEsquerdo = valorEsquerdo\n",
    "    def obterVerticeEsquerdo(self):\n",
    "        return self.verticeEsquerdo\n",
    "    def setarVerticeDireito(self, valorDireito):\n",
    "        self.verticeDireito = valorDireito\n",
    "    def obterVerticeDireito(self):\n",
    "        return self.verticeDireito"
   ]
  }
 ],
 "metadata": {
  "kernelspec": {
   "display_name": "Python 3 (ipykernel)",
   "language": "python",
   "name": "python3"
  },
  "language_info": {
   "codemirror_mode": {
    "name": "ipython",
    "version": 3
   },
   "file_extension": ".py",
   "mimetype": "text/x-python",
   "name": "python",
   "nbconvert_exporter": "python",
   "pygments_lexer": "ipython3",
   "version": "3.9.13"
  }
 },
 "nbformat": 4,
 "nbformat_minor": 5
}
